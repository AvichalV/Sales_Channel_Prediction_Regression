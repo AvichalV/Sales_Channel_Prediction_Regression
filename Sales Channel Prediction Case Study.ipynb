{
 "cells": [
  {
   "cell_type": "markdown",
   "id": "c5905dba",
   "metadata": {},
   "source": [
    "# Importing necessary Libraries"
   ]
  },
  {
   "cell_type": "code",
   "execution_count": 1,
   "id": "de09239c",
   "metadata": {},
   "outputs": [],
   "source": [
    "import numpy as np\n",
    "import pandas as pd"
   ]
  },
  {
   "cell_type": "code",
   "execution_count": 2,
   "id": "dfc0228d",
   "metadata": {},
   "outputs": [],
   "source": [
    "import matplotlib.pyplot as plt\n",
    "import seaborn as sns\n",
    "import warnings\n",
    "warnings.filterwarnings('ignore')"
   ]
  },
  {
   "cell_type": "markdown",
   "id": "4cdee248",
   "metadata": {},
   "source": [
    "# Importing the dataset"
   ]
  },
  {
   "cell_type": "code",
   "execution_count": 3,
   "id": "b3a27c44",
   "metadata": {},
   "outputs": [],
   "source": [
    "df = pd.read_csv('https://raw.githubusercontent.com/dsrscientist/DSData/master/Advertising.csv')"
   ]
  },
  {
   "cell_type": "markdown",
   "id": "e5f74504",
   "metadata": {},
   "source": [
    "# Understanding the dataset"
   ]
  },
  {
   "cell_type": "code",
   "execution_count": 4,
   "id": "c0a3c6e4",
   "metadata": {},
   "outputs": [
    {
     "data": {
      "text/html": [
       "<div>\n",
       "<style scoped>\n",
       "    .dataframe tbody tr th:only-of-type {\n",
       "        vertical-align: middle;\n",
       "    }\n",
       "\n",
       "    .dataframe tbody tr th {\n",
       "        vertical-align: top;\n",
       "    }\n",
       "\n",
       "    .dataframe thead th {\n",
       "        text-align: right;\n",
       "    }\n",
       "</style>\n",
       "<table border=\"1\" class=\"dataframe\">\n",
       "  <thead>\n",
       "    <tr style=\"text-align: right;\">\n",
       "      <th></th>\n",
       "      <th>Unnamed: 0</th>\n",
       "      <th>TV</th>\n",
       "      <th>radio</th>\n",
       "      <th>newspaper</th>\n",
       "      <th>sales</th>\n",
       "    </tr>\n",
       "  </thead>\n",
       "  <tbody>\n",
       "    <tr>\n",
       "      <th>173</th>\n",
       "      <td>174</td>\n",
       "      <td>168.4</td>\n",
       "      <td>7.1</td>\n",
       "      <td>12.8</td>\n",
       "      <td>11.7</td>\n",
       "    </tr>\n",
       "    <tr>\n",
       "      <th>14</th>\n",
       "      <td>15</td>\n",
       "      <td>204.1</td>\n",
       "      <td>32.9</td>\n",
       "      <td>46.0</td>\n",
       "      <td>19.0</td>\n",
       "    </tr>\n",
       "    <tr>\n",
       "      <th>196</th>\n",
       "      <td>197</td>\n",
       "      <td>94.2</td>\n",
       "      <td>4.9</td>\n",
       "      <td>8.1</td>\n",
       "      <td>9.7</td>\n",
       "    </tr>\n",
       "    <tr>\n",
       "      <th>52</th>\n",
       "      <td>53</td>\n",
       "      <td>216.4</td>\n",
       "      <td>41.7</td>\n",
       "      <td>39.6</td>\n",
       "      <td>22.6</td>\n",
       "    </tr>\n",
       "    <tr>\n",
       "      <th>35</th>\n",
       "      <td>36</td>\n",
       "      <td>290.7</td>\n",
       "      <td>4.1</td>\n",
       "      <td>8.5</td>\n",
       "      <td>12.8</td>\n",
       "    </tr>\n",
       "  </tbody>\n",
       "</table>\n",
       "</div>"
      ],
      "text/plain": [
       "     Unnamed: 0     TV  radio  newspaper  sales\n",
       "173         174  168.4    7.1       12.8   11.7\n",
       "14           15  204.1   32.9       46.0   19.0\n",
       "196         197   94.2    4.9        8.1    9.7\n",
       "52           53  216.4   41.7       39.6   22.6\n",
       "35           36  290.7    4.1        8.5   12.8"
      ]
     },
     "execution_count": 4,
     "metadata": {},
     "output_type": "execute_result"
    }
   ],
   "source": [
    "df.sample(5)"
   ]
  },
  {
   "cell_type": "code",
   "execution_count": 5,
   "id": "7e2421c3",
   "metadata": {},
   "outputs": [
    {
     "name": "stdout",
     "output_type": "stream",
     "text": [
      "<class 'pandas.core.frame.DataFrame'>\n",
      "RangeIndex: 200 entries, 0 to 199\n",
      "Data columns (total 5 columns):\n",
      " #   Column      Non-Null Count  Dtype  \n",
      "---  ------      --------------  -----  \n",
      " 0   Unnamed: 0  200 non-null    int64  \n",
      " 1   TV          200 non-null    float64\n",
      " 2   radio       200 non-null    float64\n",
      " 3   newspaper   200 non-null    float64\n",
      " 4   sales       200 non-null    float64\n",
      "dtypes: float64(4), int64(1)\n",
      "memory usage: 7.9 KB\n"
     ]
    }
   ],
   "source": [
    "df.info()"
   ]
  },
  {
   "cell_type": "code",
   "execution_count": 6,
   "id": "eae712f6",
   "metadata": {},
   "outputs": [
    {
     "data": {
      "text/html": [
       "<div>\n",
       "<style scoped>\n",
       "    .dataframe tbody tr th:only-of-type {\n",
       "        vertical-align: middle;\n",
       "    }\n",
       "\n",
       "    .dataframe tbody tr th {\n",
       "        vertical-align: top;\n",
       "    }\n",
       "\n",
       "    .dataframe thead th {\n",
       "        text-align: right;\n",
       "    }\n",
       "</style>\n",
       "<table border=\"1\" class=\"dataframe\">\n",
       "  <thead>\n",
       "    <tr style=\"text-align: right;\">\n",
       "      <th></th>\n",
       "      <th>count</th>\n",
       "      <th>mean</th>\n",
       "      <th>std</th>\n",
       "      <th>min</th>\n",
       "      <th>25%</th>\n",
       "      <th>50%</th>\n",
       "      <th>75%</th>\n",
       "      <th>max</th>\n",
       "    </tr>\n",
       "  </thead>\n",
       "  <tbody>\n",
       "    <tr>\n",
       "      <th>Unnamed: 0</th>\n",
       "      <td>200.0</td>\n",
       "      <td>100.5000</td>\n",
       "      <td>57.879185</td>\n",
       "      <td>1.0</td>\n",
       "      <td>50.750</td>\n",
       "      <td>100.50</td>\n",
       "      <td>150.250</td>\n",
       "      <td>200.0</td>\n",
       "    </tr>\n",
       "    <tr>\n",
       "      <th>TV</th>\n",
       "      <td>200.0</td>\n",
       "      <td>147.0425</td>\n",
       "      <td>85.854236</td>\n",
       "      <td>0.7</td>\n",
       "      <td>74.375</td>\n",
       "      <td>149.75</td>\n",
       "      <td>218.825</td>\n",
       "      <td>296.4</td>\n",
       "    </tr>\n",
       "    <tr>\n",
       "      <th>radio</th>\n",
       "      <td>200.0</td>\n",
       "      <td>23.2640</td>\n",
       "      <td>14.846809</td>\n",
       "      <td>0.0</td>\n",
       "      <td>9.975</td>\n",
       "      <td>22.90</td>\n",
       "      <td>36.525</td>\n",
       "      <td>49.6</td>\n",
       "    </tr>\n",
       "    <tr>\n",
       "      <th>newspaper</th>\n",
       "      <td>200.0</td>\n",
       "      <td>30.5540</td>\n",
       "      <td>21.778621</td>\n",
       "      <td>0.3</td>\n",
       "      <td>12.750</td>\n",
       "      <td>25.75</td>\n",
       "      <td>45.100</td>\n",
       "      <td>114.0</td>\n",
       "    </tr>\n",
       "    <tr>\n",
       "      <th>sales</th>\n",
       "      <td>200.0</td>\n",
       "      <td>14.0225</td>\n",
       "      <td>5.217457</td>\n",
       "      <td>1.6</td>\n",
       "      <td>10.375</td>\n",
       "      <td>12.90</td>\n",
       "      <td>17.400</td>\n",
       "      <td>27.0</td>\n",
       "    </tr>\n",
       "  </tbody>\n",
       "</table>\n",
       "</div>"
      ],
      "text/plain": [
       "            count      mean        std  min     25%     50%      75%    max\n",
       "Unnamed: 0  200.0  100.5000  57.879185  1.0  50.750  100.50  150.250  200.0\n",
       "TV          200.0  147.0425  85.854236  0.7  74.375  149.75  218.825  296.4\n",
       "radio       200.0   23.2640  14.846809  0.0   9.975   22.90   36.525   49.6\n",
       "newspaper   200.0   30.5540  21.778621  0.3  12.750   25.75   45.100  114.0\n",
       "sales       200.0   14.0225   5.217457  1.6  10.375   12.90   17.400   27.0"
      ]
     },
     "execution_count": 6,
     "metadata": {},
     "output_type": "execute_result"
    }
   ],
   "source": [
    "df.describe().T"
   ]
  },
  {
   "cell_type": "markdown",
   "id": "f0a0ff0e",
   "metadata": {},
   "source": [
    "Standard Deviation is high for the complete dataset"
   ]
  },
  {
   "cell_type": "code",
   "execution_count": 7,
   "id": "38d6198d",
   "metadata": {},
   "outputs": [
    {
     "data": {
      "text/plain": [
       "(200, 5)"
      ]
     },
     "execution_count": 7,
     "metadata": {},
     "output_type": "execute_result"
    }
   ],
   "source": [
    "df.shape"
   ]
  },
  {
   "cell_type": "code",
   "execution_count": 8,
   "id": "7a63af9e",
   "metadata": {},
   "outputs": [
    {
     "data": {
      "text/plain": [
       "Unnamed: 0    0\n",
       "TV            0\n",
       "radio         0\n",
       "newspaper     0\n",
       "sales         0\n",
       "dtype: int64"
      ]
     },
     "execution_count": 8,
     "metadata": {},
     "output_type": "execute_result"
    }
   ],
   "source": [
    "df.isnull().sum()"
   ]
  },
  {
   "cell_type": "markdown",
   "id": "063745dd",
   "metadata": {},
   "source": [
    "No null values in the dataset"
   ]
  },
  {
   "cell_type": "code",
   "execution_count": 9,
   "id": "94ffc279",
   "metadata": {},
   "outputs": [
    {
     "data": {
      "text/plain": [
       "0"
      ]
     },
     "execution_count": 9,
     "metadata": {},
     "output_type": "execute_result"
    }
   ],
   "source": [
    "df.isnull().sum().sum()"
   ]
  },
  {
   "cell_type": "code",
   "execution_count": 11,
   "id": "e9a30106",
   "metadata": {},
   "outputs": [
    {
     "data": {
      "image/png": "[encoded data removed]",
      "text/plain": [
       "<Figure size 720x432 with 2 Axes>"
      ]
     },
     "metadata": {
      "needs_background": "light"
     },
     "output_type": "display_data"
    }
   ],
   "source": [
    "#describing the data visually\n",
    "plt.figure (figsize = (10,6))\n",
    "sns.heatmap(round(df.describe()[1:].transpose(),2),linewidth=2,annot = True, fmt = 'f',cmap='Greys')\n",
    "plt.xticks(fontsize = 14)\n",
    "plt.yticks (fontsize = 12)\n",
    "plt.title (\"Describe Summary\")\n",
    "plt.show()"
   ]
  },
  {
   "cell_type": "markdown",
   "id": "6da84889",
   "metadata": {},
   "source": [
    "# Checking the unique values"
   ]
  },
  {
   "cell_type": "code",
   "execution_count": 14,
   "id": "1644f7a5",
   "metadata": {},
   "outputs": [
    {
     "data": {
      "text/plain": [
       "Index(['Unnamed: 0', 'TV', 'radio', 'newspaper', 'sales'], dtype='object')"
      ]
     },
     "execution_count": 14,
     "metadata": {},
     "output_type": "execute_result"
    }
   ],
   "source": [
    "df.columns"
   ]
  },
  {
   "cell_type": "code",
   "execution_count": 16,
   "id": "8677e759",
   "metadata": {},
   "outputs": [
    {
     "data": {
      "text/plain": [
       "Unnamed: 0    200\n",
       "TV            190\n",
       "radio         167\n",
       "newspaper     172\n",
       "sales         121\n",
       "dtype: int64"
      ]
     },
     "execution_count": 16,
     "metadata": {},
     "output_type": "execute_result"
    }
   ],
   "source": [
    "df.nunique()"
   ]
  },
  {
   "cell_type": "markdown",
   "id": "9d9a70cd",
   "metadata": {},
   "source": [
    "# Checking the Correlation of features"
   ]
  },
  {
   "cell_type": "code",
   "execution_count": 18,
   "id": "d4c87191",
   "metadata": {},
   "outputs": [
    {
     "data": {
      "text/plain": [
       "Unnamed: 0    0.051616\n",
       "newspaper     0.228299\n",
       "radio         0.576223\n",
       "TV            0.782224\n",
       "sales         1.000000\n",
       "Name: sales, dtype: float64"
      ]
     },
     "execution_count": 18,
     "metadata": {},
     "output_type": "execute_result"
    }
   ],
   "source": [
    "df.corr()['sales'].sort_values().abs()"
   ]
  },
  {
   "cell_type": "code",
   "execution_count": 23,
   "id": "eecbec2e",
   "metadata": {},
   "outputs": [
    {
     "data": {
      "text/plain": [
       "<AxesSubplot:>"
      ]
     },
     "execution_count": 23,
     "metadata": {},
     "output_type": "execute_result"
    },
    {
     "data": {
      "image/png": "[encoded data removed]",
      "text/plain": [
       "<Figure size 1080x504 with 2 Axes>"
      ]
     },
     "metadata": {
      "needs_background": "light"
     },
     "output_type": "display_data"
    }
   ],
   "source": [
    "#Using heatmap\n",
    "\n",
    "import seaborn as sns\n",
    "import matplotlib.pyplot as plt\n",
    "plt.figure(figsize = (15,7))\n",
    "sns.heatmap(df.corr().abs(), annot = True, linewidths=0.5, linecolor  = \"black\", fmt='.2f') #upto 2 places of decimals"
   ]
  },
  {
   "cell_type": "markdown",
   "id": "e2e04849",
   "metadata": {},
   "source": [
    "Clearly, for the analysis above, we can see that 'unnamed: 0' is not relevant to our dataset and must be dropped"
   ]
  },
  {
   "cell_type": "code",
   "execution_count": 24,
   "id": "fca8df05",
   "metadata": {},
   "outputs": [
    {
     "data": {
      "text/html": [
       "<div>\n",
       "<style scoped>\n",
       "    .dataframe tbody tr th:only-of-type {\n",
       "        vertical-align: middle;\n",
       "    }\n",
       "\n",
       "    .dataframe tbody tr th {\n",
       "        vertical-align: top;\n",
       "    }\n",
       "\n",
       "    .dataframe thead th {\n",
       "        text-align: right;\n",
       "    }\n",
       "</style>\n",
       "<table border=\"1\" class=\"dataframe\">\n",
       "  <thead>\n",
       "    <tr style=\"text-align: right;\">\n",
       "      <th></th>\n",
       "      <th>TV</th>\n",
       "      <th>radio</th>\n",
       "      <th>newspaper</th>\n",
       "      <th>sales</th>\n",
       "    </tr>\n",
       "  </thead>\n",
       "  <tbody>\n",
       "    <tr>\n",
       "      <th>119</th>\n",
       "      <td>19.4</td>\n",
       "      <td>16.0</td>\n",
       "      <td>22.3</td>\n",
       "      <td>6.6</td>\n",
       "    </tr>\n",
       "    <tr>\n",
       "      <th>99</th>\n",
       "      <td>135.2</td>\n",
       "      <td>41.7</td>\n",
       "      <td>45.9</td>\n",
       "      <td>17.2</td>\n",
       "    </tr>\n",
       "    <tr>\n",
       "      <th>133</th>\n",
       "      <td>219.8</td>\n",
       "      <td>33.5</td>\n",
       "      <td>45.1</td>\n",
       "      <td>19.6</td>\n",
       "    </tr>\n",
       "    <tr>\n",
       "      <th>8</th>\n",
       "      <td>8.6</td>\n",
       "      <td>2.1</td>\n",
       "      <td>1.0</td>\n",
       "      <td>4.8</td>\n",
       "    </tr>\n",
       "    <tr>\n",
       "      <th>109</th>\n",
       "      <td>255.4</td>\n",
       "      <td>26.9</td>\n",
       "      <td>5.5</td>\n",
       "      <td>19.8</td>\n",
       "    </tr>\n",
       "  </tbody>\n",
       "</table>\n",
       "</div>"
      ],
      "text/plain": [
       "        TV  radio  newspaper  sales\n",
       "119   19.4   16.0       22.3    6.6\n",
       "99   135.2   41.7       45.9   17.2\n",
       "133  219.8   33.5       45.1   19.6\n",
       "8      8.6    2.1        1.0    4.8\n",
       "109  255.4   26.9        5.5   19.8"
      ]
     },
     "execution_count": 24,
     "metadata": {},
     "output_type": "execute_result"
    }
   ],
   "source": [
    "df = df.drop (columns = ['Unnamed: 0'])\n",
    "df.sample(5)"
   ]
  },
  {
   "cell_type": "markdown",
   "id": "16fd7520",
   "metadata": {},
   "source": [
    "# Checking for relationshhip between the features"
   ]
  },
  {
   "cell_type": "code",
   "execution_count": 31,
   "id": "5a9ddf78",
   "metadata": {},
   "outputs": [
    {
     "data": {
      "text/plain": [
       "<AxesSubplot:xlabel='newspaper', ylabel='sales'>"
      ]
     },
     "execution_count": 31,
     "metadata": {},
     "output_type": "execute_result"
    },
    {
     "data": {
      "image/png": "[encoded data removed]",
      "text/plain": [
       "<Figure size 1080x720 with 3 Axes>"
      ]
     },
     "metadata": {
      "needs_background": "light"
     },
     "output_type": "display_data"
    }
   ],
   "source": [
    "fig, axs = plt.subplots (1,3)\n",
    "df.plot(kind = 'scatter', x = 'TV', y = 'sales', ax = axs[0], figsize =(15,10))\n",
    "df.plot(kind = 'scatter', x = 'radio', y = 'sales', ax = axs[1])\n",
    "df.plot(kind = 'scatter', x = 'newspaper', y = 'sales', ax = axs[2])"
   ]
  },
  {
   "cell_type": "markdown",
   "id": "9a9435d7",
   "metadata": {},
   "source": [
    "1. Television has clear positive relation with the label\n",
    "2. radio has moderate relationship with the label\n",
    "3. newspaper has the least relationship with the label"
   ]
  },
  {
   "cell_type": "markdown",
   "id": "95711ae4",
   "metadata": {},
   "source": [
    "# Checking for distribution of dataset"
   ]
  },
  {
   "cell_type": "code",
   "execution_count": 33,
   "id": "a5aa010a",
   "metadata": {},
   "outputs": [
    {
     "data": {
      "image/png": "[encoded data removed]",
      "text/plain": [
       "<Figure size 1080x720 with 3 Axes>"
      ]
     },
     "metadata": {},
     "output_type": "display_data"
    }
   ],
   "source": [
    "plt.figure(figsize = (15,10), facecolor = 'cyan')\n",
    "plotnumber = 1 #this is an initiator\n",
    "\n",
    "for column in df:\n",
    "    if plotnumber <4: #here 8 is the number of features\n",
    "        ax = plt.subplot (2,4, plotnumber)\n",
    "        sns.distplot (df [column])\n",
    "        plt.xlabel (column, fontsize =20)\n",
    "    plotnumber +=1\n",
    "plt.tight_layout()"
   ]
  },
  {
   "cell_type": "markdown",
   "id": "9d904e5f",
   "metadata": {},
   "source": [
    "1. Distribution is not normal\n",
    "2. right skewness is present in newspaper"
   ]
  },
  {
   "cell_type": "markdown",
   "id": "53558982",
   "metadata": {},
   "source": [
    "# Using Power Transform for skewness removal"
   ]
  },
  {
   "cell_type": "code",
   "execution_count": 34,
   "id": "b6404b1c",
   "metadata": {},
   "outputs": [],
   "source": [
    "#Separating features and label\n",
    "x=df.drop('sales', axis=1)\n",
    "y= df.sales"
   ]
  },
  {
   "cell_type": "code",
   "execution_count": 35,
   "id": "7d87d4f1",
   "metadata": {},
   "outputs": [
    {
     "data": {
      "text/plain": [
       "array([[ 0.94867429,  0.96224689,  1.51433531],\n",
       "       [-1.19131426,  1.0401788 ,  0.78768252],\n",
       "       [-1.6477566 ,  1.37070964,  1.51699753],\n",
       "       [ 0.14102023,  1.14238689,  1.21465643],\n",
       "       [ 0.45271493, -0.74865064,  1.21170398],\n",
       "       [-1.82382233,  1.51501853,  1.66502354],\n",
       "       [-1.00249116,  0.69372704, -0.1077535 ],\n",
       "       [-0.210275  , -0.10158544, -0.84409341],\n",
       "       [-1.82609501, -1.63345378, -2.13259669],\n",
       "       [ 0.64764492, -1.56676988, -0.22900395],\n",
       "       [-0.88377378, -1.20298758, -0.07226156],\n",
       "       [ 0.79708355,  0.18072579, -1.60261898],\n",
       "       [-1.52641627,  0.81900563,  1.42512925],\n",
       "       [-0.48036844, -1.02813642, -1.22982506],\n",
       "       [ 0.69106577,  0.6992403 ,  0.81860579],\n",
       "       [ 0.60295713,  1.45770359,  1.04432344],\n",
       "       [-0.86079972,  0.89906999,  2.52943514],\n",
       "       [ 1.4355201 ,  1.05563142,  1.13383286],\n",
       "       [-0.84199328, -0.04209908, -0.39356015],\n",
       "       [ 0.09508551,  0.17453165, -0.34671544],\n",
       "       [ 0.8337607 ,  0.40367061,  1.05996548],\n",
       "       [ 1.01958629, -1.27567304, -0.1077535 ],\n",
       "       [-1.72701642, -0.35739289,  0.93875739],\n",
       "       [ 0.93109798, -0.28631129,  0.02589311],\n",
       "       [-0.93569772, -0.60431061, -0.39356015],\n",
       "       [ 1.26290943, -1.4550585 , -0.3237259 ],\n",
       "       [ 0.04659013,  0.49664406, -0.76867281],\n",
       "       [ 1.0456669 , -0.30040383, -0.1386789 ],\n",
       "       [ 1.12918152,  0.3682981 , -0.1386789 ],\n",
       "       [-0.82328646, -0.35021379,  0.63452018],\n",
       "       [ 1.54129731,  0.43876195,  0.72114861],\n",
       "       [-0.29553337, -0.25134036,  0.55235877],\n",
       "       [-0.48404243, -1.71918898,  0.20071936],\n",
       "       [ 1.28829734, -0.07502706, -2.32472495],\n",
       "       [-0.50245749, -1.7342107 , -1.20981332],\n",
       "       [ 1.52114819, -1.3853128 , -1.10471076],\n",
       "       [ 1.3004967 ,  1.2675887 , -1.47330873],\n",
       "       [-0.76905257,  1.53874417,  0.80833914],\n",
       "       [-1.21245403,  0.34455612,  0.4155984 ],\n",
       "       [ 0.92816503,  0.95701091,  0.28742321],\n",
       "       [ 0.67493776,  0.07409584,  0.27034854],\n",
       "       [ 0.41309098,  0.72671408,  0.55615392],\n",
       "       [ 1.54769995,  0.40367061, -1.95904851],\n",
       "       [ 0.71920943, -0.95499286,  0.03545918],\n",
       "       [-1.50359538,  0.28462118,  0.72469411],\n",
       "       [ 0.39319467,  0.08679116,  0.26605961],\n",
       "       [-0.57689562, -0.82396106,  0.43960934],\n",
       "       [ 1.04373768,  1.15250515, -0.3817378 ],\n",
       "       [ 0.92033882, -0.36458821,  0.94852755],\n",
       "       [-0.87294338, -0.67550361,  0.48300508],\n",
       "       [ 0.64764492, -1.50354208,  0.3953996 ],\n",
       "       [-0.44500506, -0.84958728, -1.65883577],\n",
       "       [ 0.81395585,  1.16260524,  0.59004665],\n",
       "       [ 0.47140703,  1.38529598,  1.22055211],\n",
       "       [ 1.2610261 ,  0.46779569, -0.54176985],\n",
       "       [ 0.63852563,  1.53874417,  1.25857888],\n",
       "       [-1.85624738,  0.42709558,  0.65646046],\n",
       "       [-0.02802214, -0.12834141, -0.49726342],\n",
       "       [ 0.75824197,  1.54820925,  0.51793191],\n",
       "       [ 0.75724354,  0.50813245, -1.03293213],\n",
       "       [-1.05927427, -1.64727037, -0.21815975],\n",
       "       [ 1.24783212,  1.21283741,  1.10022212],\n",
       "       [ 1.03794746, -0.38627294,  0.07797929],\n",
       "       [-0.41714955,  0.51386586, -1.11394312],\n",
       "       [-0.08546826,  1.21783637,  0.15154706],\n",
       "       [-0.84467375, -0.87549189, -2.1571572 ],\n",
       "       [-1.39531449,  0.21769395, -1.88378271],\n",
       "       [ 0.0066178 , -0.45966823, -0.95619942],\n",
       "       [ 1.01958629,  0.39191142, -0.8911416 ],\n",
       "       [ 0.81792069,  1.2725405 ,  0.07329661],\n",
       "       [ 0.64055308,  0.5708121 ,  0.55615392],\n",
       "       [-0.3321763 , -0.4745618 ,  0.27462933],\n",
       "       [-1.47420382,  0.70474737, -0.33518557],\n",
       "       [-0.10474749, -1.21318999,  0.25745713],\n",
       "       [ 0.7841573 ,  0.21769395, -0.73224866],\n",
       "       [-1.65352738,  1.26263268,  2.01064695],\n",
       "       [-1.46224158, -1.70439494, -0.25638211],\n",
       "       [-0.20680098,  0.45039797, -0.65484297],\n",
       "       [-1.90271957,  0.53102334, -1.02420602],\n",
       "       [-0.25915513, -1.01885558, -0.1283175 ],\n",
       "       [-0.74679627,  0.34455612, -0.17008941],\n",
       "       [ 1.04277291, -1.3853128 ,  0.48691113],\n",
       "       [-0.76118235, -0.05523482,  0.30858709],\n",
       "       [-0.85272745,  1.30216339,  0.43562451],\n",
       "       [ 0.78515237,  1.22782124,  0.36271243],\n",
       "       [ 0.58051341, -0.1824681 ,  1.41963599],\n",
       "       [-0.74810183,  0.39191142, -0.53534269],\n",
       "       [-0.32151022,  1.10682827,  1.35009138],\n",
       "       [-0.59445094,  0.27253204,  1.62418784],\n",
       "       [-0.3321763 ,  1.46250027,  0.99685054],\n",
       "       [-0.04935604, -1.29701657, -1.03293213],\n",
       "       [-1.44360046, -1.71918898,  0.32955606],\n",
       "       [ 0.8268345 ,  0.7321905 ,  1.22937273],\n",
       "       [ 1.14922339,  0.89377076,  1.59579653],\n",
       "       [-0.36073275, -0.49704225, -0.89912378],\n",
       "       [ 0.26831445,  0.62707446,  1.04432344],\n",
       "       [ 0.62533398, -1.4550585 , -1.3679351 ],\n",
       "       [ 0.49522053, -0.00946213, -0.18598289],\n",
       "       [ 1.51197614,  1.19279775,  0.99045745],\n",
       "       [-0.03924063,  1.16260524,  0.8151881 ],\n",
       "       [ 0.87322688, -1.36277082,  0.94527481],\n",
       "       [ 1.57327016,  0.88315609,  2.2628248 ],\n",
       "       [ 1.42441703, -0.80702634, -0.21815975],\n",
       "       [ 0.52616407, -0.26528466, -0.41743473],\n",
       "       [ 1.02732204,  0.77578583, -1.4371576 ],\n",
       "       [-0.00900053,  1.39500055,  1.22937273],\n",
       "       [-1.50533991, -0.73221674,  0.18741746],\n",
       "       [-0.56814506, -1.91962741, -0.12315678],\n",
       "       [-1.72906885, -1.90076688, -0.00306944],\n",
       "       [ 1.19202117,  0.35644335, -1.41364623],\n",
       "       [ 0.90662534, -0.97304835,  1.15501188],\n",
       "       [ 1.06108536,  0.97270342, -0.12315678],\n",
       "       [ 0.39948386, -0.39353456, -1.84832983],\n",
       "       [ 0.74625251, -0.0355487 , -0.91521378],\n",
       "       [-0.72337219,  1.41436293,  0.39133878],\n",
       "       [-0.76380392,  0.81362329,  1.03804144],\n",
       "       [ 0.00550359, -0.4745618 , -0.00306944],\n",
       "       [-0.74679627, -1.82997283, -0.6140794 ],\n",
       "       [-0.1469415 ,  0.91493549,  1.76974284],\n",
       "       [-1.60617806, -0.35021379, -0.17008941],\n",
       "       [ 0.02885793,  0.35050382,  0.82542768],\n",
       "       [-1.61739376,  0.0357579 ,  0.96473213],\n",
       "       [ 0.88896054, -1.59299019, -0.56119394],\n",
       "       [-0.17678774,  0.79203663, -0.78347482],\n",
       "       [ 0.94281959,  0.66606674,  1.64467302],\n",
       "       [-0.60829585, -0.66750027,  0.01146189],\n",
       "       [-1.84451116,  1.01950683,  0.9711866 ],\n",
       "       [-0.69751107, -1.9798635 , -1.04171092],\n",
       "       [ 0.85253082,  1.51977089, -1.71817136],\n",
       "       [-0.9730961 , -0.65156482,  0.71759813],\n",
       "       [-2.04026249,  1.05563142, -1.08642518],\n",
       "       [ 1.2845405 , -1.52845902,  0.71404265],\n",
       "       [-1.83065941,  0.37421339, -1.90202575],\n",
       "       [ 0.84759549,  0.7321905 ,  0.78768252],\n",
       "       [-1.30833884,  1.0039509 ,  1.41688552],\n",
       "       [-1.1347862 ,  1.42402092, -1.10471076],\n",
       "       [-1.49489926,  1.02468221, -1.03293213],\n",
       "       [ 1.36405418,  0.47358005,  1.2498484 ],\n",
       "       [-1.2139708 ,  0.2966758 , -0.26744284],\n",
       "       [ 0.49522053,  1.2725405 , -1.97889407],\n",
       "       [-0.78616198, -0.27928757, -0.74672069],\n",
       "       [ 0.58562018,  0.83511859,  1.68019945],\n",
       "       [ 0.85450412,  0.71574298,  0.52562487],\n",
       "       [-0.39426242, -1.21318999,  0.38727085],\n",
       "       [-0.49631074, -0.43746469,  0.56372647],\n",
       "       [ 0.01774834, -1.66126392, -1.05942991],\n",
       "       [ 1.0456669 , -1.05622936, -1.08642518],\n",
       "       [ 1.07551559,  1.51977089,  0.75987942],\n",
       "       [-1.29103896,  1.09151903, -0.82108927],\n",
       "       [-1.18830853,  0.29065278, -0.26190454],\n",
       "       [ 1.42904484, -0.50457379,  0.49081078],\n",
       "       [-0.20101603, -0.95499286,  0.90922967],\n",
       "       [ 0.62533398,  0.13716541, -0.65484297],\n",
       "       [ 0.35322947,  1.0607726 ,  0.51793191],\n",
       "       [ 0.52513474, -0.00296885, -1.01553176],\n",
       "       [-1.93665721, -0.68353104, -1.39057916],\n",
       "       [-0.52465633,  1.25270792,  0.96796131],\n",
       "       [ 0.12246872, -1.74947332, -0.06724139],\n",
       "       [-1.75822712,  0.91493549,  0.79113681],\n",
       "       [-0.07867963, -0.1824681 ,  0.3953996 ],\n",
       "       [ 0.36587519, -0.20298441,  0.23144984],\n",
       "       [-0.62724967,  0.85652391,  0.92895126],\n",
       "       [ 0.53130856, -0.20298441, -0.00306944],\n",
       "       [ 0.27045056,  0.90965233, -1.20981332],\n",
       "       [-0.24514238, -0.44484785, -1.42534498],\n",
       "       [ 0.99148599, -1.46701964,  1.90420913],\n",
       "       [-1.63438885,  0.95176976, -0.20737541],\n",
       "       [ 0.71820605, -1.26510158, -0.32944703],\n",
       "       [ 0.80403524,  0.15589202,  1.18797267],\n",
       "       [ 1.46230082, -0.76519122, -1.31304986],\n",
       "       [-1.10987617, -0.68353104, -0.38763953],\n",
       "       [ 0.28112073, -0.01596668,  0.86598739],\n",
       "       [-1.60245911, -0.06841773, -0.47232241],\n",
       "       [ 0.32257166, -1.07517365, -0.75400514],\n",
       "       [ 0.87322688, -1.46701964, -0.73224866],\n",
       "       [ 1.39381826,  1.51501853,  0.67098058],\n",
       "       [ 1.12535894,  0.54811736, -0.27856754],\n",
       "       [ 0.34161695, -1.00961537,  0.41961731],\n",
       "       [ 1.39196069, -1.60632069, -0.09754949],\n",
       "       [ 0.29283811, -0.81547901, -0.43554699],\n",
       "       [ 0.19634785, -1.56676988, -1.12323656],\n",
       "       [ 0.83474968, -1.2441519 ,  0.08265171],\n",
       "       [-1.02082882, -1.21318999,  0.18741746],\n",
       "       [ 1.49268741,  1.22782124,  1.58280405],\n",
       "       [ 1.17682728,  0.00998415,  0.20071936],\n",
       "       [ 0.70012304,  1.33163754, -0.31802204],\n",
       "       [ 0.0088456 , -1.63345378,  0.04498207],\n",
       "       [ 0.55902662,  0.46200391, -0.39949982],\n",
       "       [ 1.47796614, -0.50457379, -1.64450612],\n",
       "       [-1.61927178, -0.64363221, -0.11287487],\n",
       "       [-1.267656  ,  1.13225036, -1.37920552],\n",
       "       [-0.75856261, -0.74865064, -1.35676548],\n",
       "       [-1.6477566 , -1.3853128 ,  0.27034854],\n",
       "       [ 0.30559723,  1.1777216 , -1.65883577],\n",
       "       [ 0.12137572,  0.84583242, -1.35676548],\n",
       "       [-1.28790757, -1.43143631, -0.68257581],\n",
       "       [-0.52094879, -1.29701657, -1.14201102],\n",
       "       [ 0.41309098, -0.87549189, -1.31304986],\n",
       "       [ 1.45584317,  1.1777216 ,  1.43335009],\n",
       "       [ 0.96816082, -0.93708342, -1.08642518]])"
      ]
     },
     "execution_count": 35,
     "metadata": {},
     "output_type": "execute_result"
    }
   ],
   "source": [
    "from sklearn.preprocessing import power_transform\n",
    "x = power_transform(x, method ='yeo-johnson')\n",
    "x"
   ]
  },
  {
   "cell_type": "code",
   "execution_count": 37,
   "id": "d3b93a8a",
   "metadata": {},
   "outputs": [
    {
     "data": {
      "text/html": [
       "<div>\n",
       "<style scoped>\n",
       "    .dataframe tbody tr th:only-of-type {\n",
       "        vertical-align: middle;\n",
       "    }\n",
       "\n",
       "    .dataframe tbody tr th {\n",
       "        vertical-align: top;\n",
       "    }\n",
       "\n",
       "    .dataframe thead th {\n",
       "        text-align: right;\n",
       "    }\n",
       "</style>\n",
       "<table border=\"1\" class=\"dataframe\">\n",
       "  <thead>\n",
       "    <tr style=\"text-align: right;\">\n",
       "      <th></th>\n",
       "      <th>TV</th>\n",
       "      <th>radio</th>\n",
       "      <th>newspaper</th>\n",
       "    </tr>\n",
       "  </thead>\n",
       "  <tbody>\n",
       "    <tr>\n",
       "      <th>0</th>\n",
       "      <td>0.948674</td>\n",
       "      <td>0.962247</td>\n",
       "      <td>1.514335</td>\n",
       "    </tr>\n",
       "    <tr>\n",
       "      <th>1</th>\n",
       "      <td>-1.191314</td>\n",
       "      <td>1.040179</td>\n",
       "      <td>0.787683</td>\n",
       "    </tr>\n",
       "    <tr>\n",
       "      <th>2</th>\n",
       "      <td>-1.647757</td>\n",
       "      <td>1.370710</td>\n",
       "      <td>1.516998</td>\n",
       "    </tr>\n",
       "    <tr>\n",
       "      <th>3</th>\n",
       "      <td>0.141020</td>\n",
       "      <td>1.142387</td>\n",
       "      <td>1.214656</td>\n",
       "    </tr>\n",
       "    <tr>\n",
       "      <th>4</th>\n",
       "      <td>0.452715</td>\n",
       "      <td>-0.748651</td>\n",
       "      <td>1.211704</td>\n",
       "    </tr>\n",
       "    <tr>\n",
       "      <th>...</th>\n",
       "      <td>...</td>\n",
       "      <td>...</td>\n",
       "      <td>...</td>\n",
       "    </tr>\n",
       "    <tr>\n",
       "      <th>195</th>\n",
       "      <td>-1.287908</td>\n",
       "      <td>-1.431436</td>\n",
       "      <td>-0.682576</td>\n",
       "    </tr>\n",
       "    <tr>\n",
       "      <th>196</th>\n",
       "      <td>-0.520949</td>\n",
       "      <td>-1.297017</td>\n",
       "      <td>-1.142011</td>\n",
       "    </tr>\n",
       "    <tr>\n",
       "      <th>197</th>\n",
       "      <td>0.413091</td>\n",
       "      <td>-0.875492</td>\n",
       "      <td>-1.313050</td>\n",
       "    </tr>\n",
       "    <tr>\n",
       "      <th>198</th>\n",
       "      <td>1.455843</td>\n",
       "      <td>1.177722</td>\n",
       "      <td>1.433350</td>\n",
       "    </tr>\n",
       "    <tr>\n",
       "      <th>199</th>\n",
       "      <td>0.968161</td>\n",
       "      <td>-0.937083</td>\n",
       "      <td>-1.086425</td>\n",
       "    </tr>\n",
       "  </tbody>\n",
       "</table>\n",
       "<p>200 rows × 3 columns</p>\n",
       "</div>"
      ],
      "text/plain": [
       "           TV     radio  newspaper\n",
       "0    0.948674  0.962247   1.514335\n",
       "1   -1.191314  1.040179   0.787683\n",
       "2   -1.647757  1.370710   1.516998\n",
       "3    0.141020  1.142387   1.214656\n",
       "4    0.452715 -0.748651   1.211704\n",
       "..        ...       ...        ...\n",
       "195 -1.287908 -1.431436  -0.682576\n",
       "196 -0.520949 -1.297017  -1.142011\n",
       "197  0.413091 -0.875492  -1.313050\n",
       "198  1.455843  1.177722   1.433350\n",
       "199  0.968161 -0.937083  -1.086425\n",
       "\n",
       "[200 rows x 3 columns]"
      ]
     },
     "execution_count": 37,
     "metadata": {},
     "output_type": "execute_result"
    }
   ],
   "source": [
    "x = pd.DataFrame(x, columns = ['TV', 'radio', 'newspaper'])\n",
    "x"
   ]
  },
  {
   "cell_type": "code",
   "execution_count": 39,
   "id": "d02e4b84",
   "metadata": {},
   "outputs": [
    {
     "data": {
      "image/png": "[encoded data removed]",
      "text/plain": [
       "<Figure size 1080x720 with 3 Axes>"
      ]
     },
     "metadata": {},
     "output_type": "display_data"
    }
   ],
   "source": [
    "plt.figure(figsize = (15,10), facecolor = 'cyan')\n",
    "plotnumber = 1 #this is an initiator\n",
    "\n",
    "for column in x:\n",
    "    if plotnumber <4: #here 8 is the number of features\n",
    "        ax = plt.subplot (2,4, plotnumber)\n",
    "        sns.distplot (x [column])\n",
    "        plt.xlabel (column, fontsize =20)\n",
    "    plotnumber +=1\n",
    "plt.tight_layout()"
   ]
  },
  {
   "cell_type": "code",
   "execution_count": 40,
   "id": "7594c8a3",
   "metadata": {},
   "outputs": [
    {
     "data": {
      "text/plain": [
       "TV           0.315199\n",
       "radio        0.242968\n",
       "newspaper    0.077942\n",
       "dtype: float64"
      ]
     },
     "execution_count": 40,
     "metadata": {},
     "output_type": "execute_result"
    }
   ],
   "source": [
    "x.skew().sort_values().abs()"
   ]
  },
  {
   "cell_type": "code",
   "execution_count": 41,
   "id": "a97160cc",
   "metadata": {},
   "outputs": [
    {
     "data": {
      "text/html": [
       "<div>\n",
       "<style scoped>\n",
       "    .dataframe tbody tr th:only-of-type {\n",
       "        vertical-align: middle;\n",
       "    }\n",
       "\n",
       "    .dataframe tbody tr th {\n",
       "        vertical-align: top;\n",
       "    }\n",
       "\n",
       "    .dataframe thead th {\n",
       "        text-align: right;\n",
       "    }\n",
       "</style>\n",
       "<table border=\"1\" class=\"dataframe\">\n",
       "  <thead>\n",
       "    <tr style=\"text-align: right;\">\n",
       "      <th></th>\n",
       "      <th>TV</th>\n",
       "      <th>radio</th>\n",
       "      <th>newspaper</th>\n",
       "    </tr>\n",
       "  </thead>\n",
       "  <tbody>\n",
       "    <tr>\n",
       "      <th>count</th>\n",
       "      <td>2.000000e+02</td>\n",
       "      <td>2.000000e+02</td>\n",
       "      <td>2.000000e+02</td>\n",
       "    </tr>\n",
       "    <tr>\n",
       "      <th>mean</th>\n",
       "      <td>6.661338e-18</td>\n",
       "      <td>-1.515454e-16</td>\n",
       "      <td>4.096723e-16</td>\n",
       "    </tr>\n",
       "    <tr>\n",
       "      <th>std</th>\n",
       "      <td>1.002509e+00</td>\n",
       "      <td>1.002509e+00</td>\n",
       "      <td>1.002509e+00</td>\n",
       "    </tr>\n",
       "    <tr>\n",
       "      <th>min</th>\n",
       "      <td>-2.040262e+00</td>\n",
       "      <td>-1.979863e+00</td>\n",
       "      <td>-2.324725e+00</td>\n",
       "    </tr>\n",
       "    <tr>\n",
       "      <th>25%</th>\n",
       "      <td>-7.733299e-01</td>\n",
       "      <td>-8.175995e-01</td>\n",
       "      <td>-7.576721e-01</td>\n",
       "    </tr>\n",
       "    <tr>\n",
       "      <th>50%</th>\n",
       "      <td>1.219222e-01</td>\n",
       "      <td>1.119783e-01</td>\n",
       "      <td>4.196225e-03</td>\n",
       "    </tr>\n",
       "    <tr>\n",
       "      <th>75%</th>\n",
       "      <td>8.379611e-01</td>\n",
       "      <td>8.950956e-01</td>\n",
       "      <td>7.876825e-01</td>\n",
       "    </tr>\n",
       "    <tr>\n",
       "      <th>max</th>\n",
       "      <td>1.573270e+00</td>\n",
       "      <td>1.548209e+00</td>\n",
       "      <td>2.529435e+00</td>\n",
       "    </tr>\n",
       "  </tbody>\n",
       "</table>\n",
       "</div>"
      ],
      "text/plain": [
       "                 TV         radio     newspaper\n",
       "count  2.000000e+02  2.000000e+02  2.000000e+02\n",
       "mean   6.661338e-18 -1.515454e-16  4.096723e-16\n",
       "std    1.002509e+00  1.002509e+00  1.002509e+00\n",
       "min   -2.040262e+00 -1.979863e+00 -2.324725e+00\n",
       "25%   -7.733299e-01 -8.175995e-01 -7.576721e-01\n",
       "50%    1.219222e-01  1.119783e-01  4.196225e-03\n",
       "75%    8.379611e-01  8.950956e-01  7.876825e-01\n",
       "max    1.573270e+00  1.548209e+00  2.529435e+00"
      ]
     },
     "execution_count": 41,
     "metadata": {},
     "output_type": "execute_result"
    }
   ],
   "source": [
    "x.describe()"
   ]
  },
  {
   "cell_type": "markdown",
   "id": "2f5fcdbd",
   "metadata": {},
   "source": [
    "# scaling the features"
   ]
  },
  {
   "cell_type": "code",
   "execution_count": 42,
   "id": "3b8a3e38",
   "metadata": {},
   "outputs": [
    {
     "data": {
      "text/plain": [
       "array([[ 0.94867429,  0.96224689,  1.51433531],\n",
       "       [-1.19131426,  1.0401788 ,  0.78768252],\n",
       "       [-1.6477566 ,  1.37070964,  1.51699753],\n",
       "       [ 0.14102023,  1.14238689,  1.21465643],\n",
       "       [ 0.45271493, -0.74865064,  1.21170398],\n",
       "       [-1.82382233,  1.51501853,  1.66502354],\n",
       "       [-1.00249116,  0.69372704, -0.1077535 ],\n",
       "       [-0.210275  , -0.10158544, -0.84409341],\n",
       "       [-1.82609501, -1.63345378, -2.13259669],\n",
       "       [ 0.64764492, -1.56676988, -0.22900395],\n",
       "       [-0.88377378, -1.20298758, -0.07226156],\n",
       "       [ 0.79708355,  0.18072579, -1.60261898],\n",
       "       [-1.52641627,  0.81900563,  1.42512925],\n",
       "       [-0.48036844, -1.02813642, -1.22982506],\n",
       "       [ 0.69106577,  0.6992403 ,  0.81860579],\n",
       "       [ 0.60295713,  1.45770359,  1.04432344],\n",
       "       [-0.86079972,  0.89906999,  2.52943514],\n",
       "       [ 1.4355201 ,  1.05563142,  1.13383286],\n",
       "       [-0.84199328, -0.04209908, -0.39356015],\n",
       "       [ 0.09508551,  0.17453165, -0.34671544],\n",
       "       [ 0.8337607 ,  0.40367061,  1.05996548],\n",
       "       [ 1.01958629, -1.27567304, -0.1077535 ],\n",
       "       [-1.72701642, -0.35739289,  0.93875739],\n",
       "       [ 0.93109798, -0.28631129,  0.02589311],\n",
       "       [-0.93569772, -0.60431061, -0.39356015],\n",
       "       [ 1.26290943, -1.4550585 , -0.3237259 ],\n",
       "       [ 0.04659013,  0.49664406, -0.76867281],\n",
       "       [ 1.0456669 , -0.30040383, -0.1386789 ],\n",
       "       [ 1.12918152,  0.3682981 , -0.1386789 ],\n",
       "       [-0.82328646, -0.35021379,  0.63452018],\n",
       "       [ 1.54129731,  0.43876195,  0.72114861],\n",
       "       [-0.29553337, -0.25134036,  0.55235877],\n",
       "       [-0.48404243, -1.71918898,  0.20071936],\n",
       "       [ 1.28829734, -0.07502706, -2.32472495],\n",
       "       [-0.50245749, -1.7342107 , -1.20981332],\n",
       "       [ 1.52114819, -1.3853128 , -1.10471076],\n",
       "       [ 1.3004967 ,  1.2675887 , -1.47330873],\n",
       "       [-0.76905257,  1.53874417,  0.80833914],\n",
       "       [-1.21245403,  0.34455612,  0.4155984 ],\n",
       "       [ 0.92816503,  0.95701091,  0.28742321],\n",
       "       [ 0.67493776,  0.07409584,  0.27034854],\n",
       "       [ 0.41309098,  0.72671408,  0.55615392],\n",
       "       [ 1.54769995,  0.40367061, -1.95904851],\n",
       "       [ 0.71920943, -0.95499286,  0.03545918],\n",
       "       [-1.50359538,  0.28462118,  0.72469411],\n",
       "       [ 0.39319467,  0.08679116,  0.26605961],\n",
       "       [-0.57689562, -0.82396106,  0.43960934],\n",
       "       [ 1.04373768,  1.15250515, -0.3817378 ],\n",
       "       [ 0.92033882, -0.36458821,  0.94852755],\n",
       "       [-0.87294338, -0.67550361,  0.48300508],\n",
       "       [ 0.64764492, -1.50354208,  0.3953996 ],\n",
       "       [-0.44500506, -0.84958728, -1.65883577],\n",
       "       [ 0.81395585,  1.16260524,  0.59004665],\n",
       "       [ 0.47140703,  1.38529598,  1.22055211],\n",
       "       [ 1.2610261 ,  0.46779569, -0.54176985],\n",
       "       [ 0.63852563,  1.53874417,  1.25857888],\n",
       "       [-1.85624738,  0.42709558,  0.65646046],\n",
       "       [-0.02802214, -0.12834141, -0.49726342],\n",
       "       [ 0.75824197,  1.54820925,  0.51793191],\n",
       "       [ 0.75724354,  0.50813245, -1.03293213],\n",
       "       [-1.05927427, -1.64727037, -0.21815975],\n",
       "       [ 1.24783212,  1.21283741,  1.10022212],\n",
       "       [ 1.03794746, -0.38627294,  0.07797929],\n",
       "       [-0.41714955,  0.51386586, -1.11394312],\n",
       "       [-0.08546826,  1.21783637,  0.15154706],\n",
       "       [-0.84467375, -0.87549189, -2.1571572 ],\n",
       "       [-1.39531449,  0.21769395, -1.88378271],\n",
       "       [ 0.0066178 , -0.45966823, -0.95619942],\n",
       "       [ 1.01958629,  0.39191142, -0.8911416 ],\n",
       "       [ 0.81792069,  1.2725405 ,  0.07329661],\n",
       "       [ 0.64055308,  0.5708121 ,  0.55615392],\n",
       "       [-0.3321763 , -0.4745618 ,  0.27462933],\n",
       "       [-1.47420382,  0.70474737, -0.33518557],\n",
       "       [-0.10474749, -1.21318999,  0.25745713],\n",
       "       [ 0.7841573 ,  0.21769395, -0.73224866],\n",
       "       [-1.65352738,  1.26263268,  2.01064695],\n",
       "       [-1.46224158, -1.70439494, -0.25638211],\n",
       "       [-0.20680098,  0.45039797, -0.65484297],\n",
       "       [-1.90271957,  0.53102334, -1.02420602],\n",
       "       [-0.25915513, -1.01885558, -0.1283175 ],\n",
       "       [-0.74679627,  0.34455612, -0.17008941],\n",
       "       [ 1.04277291, -1.3853128 ,  0.48691113],\n",
       "       [-0.76118235, -0.05523482,  0.30858709],\n",
       "       [-0.85272745,  1.30216339,  0.43562451],\n",
       "       [ 0.78515237,  1.22782124,  0.36271243],\n",
       "       [ 0.58051341, -0.1824681 ,  1.41963599],\n",
       "       [-0.74810183,  0.39191142, -0.53534269],\n",
       "       [-0.32151022,  1.10682827,  1.35009138],\n",
       "       [-0.59445094,  0.27253204,  1.62418784],\n",
       "       [-0.3321763 ,  1.46250027,  0.99685054],\n",
       "       [-0.04935604, -1.29701657, -1.03293213],\n",
       "       [-1.44360046, -1.71918898,  0.32955606],\n",
       "       [ 0.8268345 ,  0.7321905 ,  1.22937273],\n",
       "       [ 1.14922339,  0.89377076,  1.59579653],\n",
       "       [-0.36073275, -0.49704225, -0.89912378],\n",
       "       [ 0.26831445,  0.62707446,  1.04432344],\n",
       "       [ 0.62533398, -1.4550585 , -1.3679351 ],\n",
       "       [ 0.49522053, -0.00946213, -0.18598289],\n",
       "       [ 1.51197614,  1.19279775,  0.99045745],\n",
       "       [-0.03924063,  1.16260524,  0.8151881 ],\n",
       "       [ 0.87322688, -1.36277082,  0.94527481],\n",
       "       [ 1.57327016,  0.88315609,  2.2628248 ],\n",
       "       [ 1.42441703, -0.80702634, -0.21815975],\n",
       "       [ 0.52616407, -0.26528466, -0.41743473],\n",
       "       [ 1.02732204,  0.77578583, -1.4371576 ],\n",
       "       [-0.00900053,  1.39500055,  1.22937273],\n",
       "       [-1.50533991, -0.73221674,  0.18741746],\n",
       "       [-0.56814506, -1.91962741, -0.12315678],\n",
       "       [-1.72906885, -1.90076688, -0.00306944],\n",
       "       [ 1.19202117,  0.35644335, -1.41364623],\n",
       "       [ 0.90662534, -0.97304835,  1.15501188],\n",
       "       [ 1.06108536,  0.97270342, -0.12315678],\n",
       "       [ 0.39948386, -0.39353456, -1.84832983],\n",
       "       [ 0.74625251, -0.0355487 , -0.91521378],\n",
       "       [-0.72337219,  1.41436293,  0.39133878],\n",
       "       [-0.76380392,  0.81362329,  1.03804144],\n",
       "       [ 0.00550359, -0.4745618 , -0.00306944],\n",
       "       [-0.74679627, -1.82997283, -0.6140794 ],\n",
       "       [-0.1469415 ,  0.91493549,  1.76974284],\n",
       "       [-1.60617806, -0.35021379, -0.17008941],\n",
       "       [ 0.02885793,  0.35050382,  0.82542768],\n",
       "       [-1.61739376,  0.0357579 ,  0.96473213],\n",
       "       [ 0.88896054, -1.59299019, -0.56119394],\n",
       "       [-0.17678774,  0.79203663, -0.78347482],\n",
       "       [ 0.94281959,  0.66606674,  1.64467302],\n",
       "       [-0.60829585, -0.66750027,  0.01146189],\n",
       "       [-1.84451116,  1.01950683,  0.9711866 ],\n",
       "       [-0.69751107, -1.9798635 , -1.04171092],\n",
       "       [ 0.85253082,  1.51977089, -1.71817136],\n",
       "       [-0.9730961 , -0.65156482,  0.71759813],\n",
       "       [-2.04026249,  1.05563142, -1.08642518],\n",
       "       [ 1.2845405 , -1.52845902,  0.71404265],\n",
       "       [-1.83065941,  0.37421339, -1.90202575],\n",
       "       [ 0.84759549,  0.7321905 ,  0.78768252],\n",
       "       [-1.30833884,  1.0039509 ,  1.41688552],\n",
       "       [-1.1347862 ,  1.42402092, -1.10471076],\n",
       "       [-1.49489926,  1.02468221, -1.03293213],\n",
       "       [ 1.36405418,  0.47358005,  1.2498484 ],\n",
       "       [-1.2139708 ,  0.2966758 , -0.26744284],\n",
       "       [ 0.49522053,  1.2725405 , -1.97889407],\n",
       "       [-0.78616198, -0.27928757, -0.74672069],\n",
       "       [ 0.58562018,  0.83511859,  1.68019945],\n",
       "       [ 0.85450412,  0.71574298,  0.52562487],\n",
       "       [-0.39426242, -1.21318999,  0.38727085],\n",
       "       [-0.49631074, -0.43746469,  0.56372647],\n",
       "       [ 0.01774834, -1.66126392, -1.05942991],\n",
       "       [ 1.0456669 , -1.05622936, -1.08642518],\n",
       "       [ 1.07551559,  1.51977089,  0.75987942],\n",
       "       [-1.29103896,  1.09151903, -0.82108927],\n",
       "       [-1.18830853,  0.29065278, -0.26190454],\n",
       "       [ 1.42904484, -0.50457379,  0.49081078],\n",
       "       [-0.20101603, -0.95499286,  0.90922967],\n",
       "       [ 0.62533398,  0.13716541, -0.65484297],\n",
       "       [ 0.35322947,  1.0607726 ,  0.51793191],\n",
       "       [ 0.52513474, -0.00296885, -1.01553176],\n",
       "       [-1.93665721, -0.68353104, -1.39057916],\n",
       "       [-0.52465633,  1.25270792,  0.96796131],\n",
       "       [ 0.12246872, -1.74947332, -0.06724139],\n",
       "       [-1.75822712,  0.91493549,  0.79113681],\n",
       "       [-0.07867963, -0.1824681 ,  0.3953996 ],\n",
       "       [ 0.36587519, -0.20298441,  0.23144984],\n",
       "       [-0.62724967,  0.85652391,  0.92895126],\n",
       "       [ 0.53130856, -0.20298441, -0.00306944],\n",
       "       [ 0.27045056,  0.90965233, -1.20981332],\n",
       "       [-0.24514238, -0.44484785, -1.42534498],\n",
       "       [ 0.99148599, -1.46701964,  1.90420913],\n",
       "       [-1.63438885,  0.95176976, -0.20737541],\n",
       "       [ 0.71820605, -1.26510158, -0.32944703],\n",
       "       [ 0.80403524,  0.15589202,  1.18797267],\n",
       "       [ 1.46230082, -0.76519122, -1.31304986],\n",
       "       [-1.10987617, -0.68353104, -0.38763953],\n",
       "       [ 0.28112073, -0.01596668,  0.86598739],\n",
       "       [-1.60245911, -0.06841773, -0.47232241],\n",
       "       [ 0.32257166, -1.07517365, -0.75400514],\n",
       "       [ 0.87322688, -1.46701964, -0.73224866],\n",
       "       [ 1.39381826,  1.51501853,  0.67098058],\n",
       "       [ 1.12535894,  0.54811736, -0.27856754],\n",
       "       [ 0.34161695, -1.00961537,  0.41961731],\n",
       "       [ 1.39196069, -1.60632069, -0.09754949],\n",
       "       [ 0.29283811, -0.81547901, -0.43554699],\n",
       "       [ 0.19634785, -1.56676988, -1.12323656],\n",
       "       [ 0.83474968, -1.2441519 ,  0.08265171],\n",
       "       [-1.02082882, -1.21318999,  0.18741746],\n",
       "       [ 1.49268741,  1.22782124,  1.58280405],\n",
       "       [ 1.17682728,  0.00998415,  0.20071936],\n",
       "       [ 0.70012304,  1.33163754, -0.31802204],\n",
       "       [ 0.0088456 , -1.63345378,  0.04498207],\n",
       "       [ 0.55902662,  0.46200391, -0.39949982],\n",
       "       [ 1.47796614, -0.50457379, -1.64450612],\n",
       "       [-1.61927178, -0.64363221, -0.11287487],\n",
       "       [-1.267656  ,  1.13225036, -1.37920552],\n",
       "       [-0.75856261, -0.74865064, -1.35676548],\n",
       "       [-1.6477566 , -1.3853128 ,  0.27034854],\n",
       "       [ 0.30559723,  1.1777216 , -1.65883577],\n",
       "       [ 0.12137572,  0.84583242, -1.35676548],\n",
       "       [-1.28790757, -1.43143631, -0.68257581],\n",
       "       [-0.52094879, -1.29701657, -1.14201102],\n",
       "       [ 0.41309098, -0.87549189, -1.31304986],\n",
       "       [ 1.45584317,  1.1777216 ,  1.43335009],\n",
       "       [ 0.96816082, -0.93708342, -1.08642518]])"
      ]
     },
     "execution_count": 42,
     "metadata": {},
     "output_type": "execute_result"
    }
   ],
   "source": [
    "from sklearn.preprocessing import StandardScaler\n",
    "scaler = StandardScaler()\n",
    "x_scaled = scaler.fit_transform(x)\n",
    "x_scaled"
   ]
  },
  {
   "cell_type": "markdown",
   "id": "83cdfcf2",
   "metadata": {},
   "source": [
    "# Checking for multicolinearity"
   ]
  },
  {
   "cell_type": "code",
   "execution_count": 43,
   "id": "471f2d2c",
   "metadata": {},
   "outputs": [
    {
     "data": {
      "text/html": [
       "<div>\n",
       "<style scoped>\n",
       "    .dataframe tbody tr th:only-of-type {\n",
       "        vertical-align: middle;\n",
       "    }\n",
       "\n",
       "    .dataframe tbody tr th {\n",
       "        vertical-align: top;\n",
       "    }\n",
       "\n",
       "    .dataframe thead th {\n",
       "        text-align: right;\n",
       "    }\n",
       "</style>\n",
       "<table border=\"1\" class=\"dataframe\">\n",
       "  <thead>\n",
       "    <tr style=\"text-align: right;\">\n",
       "      <th></th>\n",
       "      <th>vif</th>\n",
       "      <th>features</th>\n",
       "    </tr>\n",
       "  </thead>\n",
       "  <tbody>\n",
       "    <tr>\n",
       "      <th>0</th>\n",
       "      <td>1.003112</td>\n",
       "      <td>TV</td>\n",
       "    </tr>\n",
       "    <tr>\n",
       "      <th>1</th>\n",
       "      <td>1.094332</td>\n",
       "      <td>radio</td>\n",
       "    </tr>\n",
       "    <tr>\n",
       "      <th>2</th>\n",
       "      <td>1.093766</td>\n",
       "      <td>newspaper</td>\n",
       "    </tr>\n",
       "  </tbody>\n",
       "</table>\n",
       "</div>"
      ],
      "text/plain": [
       "        vif   features\n",
       "0  1.003112         TV\n",
       "1  1.094332      radio\n",
       "2  1.093766  newspaper"
      ]
     },
     "execution_count": 43,
     "metadata": {},
     "output_type": "execute_result"
    }
   ],
   "source": [
    "#Checking for multicolinearity\n",
    "\n",
    "from statsmodels.stats.outliers_influence import variance_inflation_factor\n",
    "\n",
    "vif = pd.DataFrame()\n",
    "vif[\"vif\"] = [variance_inflation_factor (x_scaled, i) for i in range (x_scaled.shape[1])]\n",
    "vif[\"features\"] = x.columns  #here, vif and features are column names\n",
    "vif"
   ]
  },
  {
   "cell_type": "markdown",
   "id": "924db5af",
   "metadata": {},
   "source": [
    "Multicolinearity is not present in the dataset"
   ]
  },
  {
   "cell_type": "markdown",
   "id": "8e83432f",
   "metadata": {},
   "source": [
    "# Model Building"
   ]
  },
  {
   "cell_type": "code",
   "execution_count": 44,
   "id": "d11410e7",
   "metadata": {},
   "outputs": [
    {
     "name": "stdout",
     "output_type": "stream",
     "text": [
      "At random state 100, the training accuracy is: 0.902464015570458\n",
      "At random state 100, the testing accuracy is: 0.9260548354681654\n",
      "\n",
      "\n",
      "At random state 101, the training accuracy is: 0.8982332265210524\n",
      "At random state 101, the testing accuracy is: 0.939257532725572\n",
      "\n",
      "\n",
      "At random state 102, the training accuracy is: 0.9025500533538177\n",
      "At random state 102, the testing accuracy is: 0.9231429333695493\n",
      "\n",
      "\n",
      "At random state 103, the training accuracy is: 0.8999135551064491\n",
      "At random state 103, the testing accuracy is: 0.9355512409695103\n",
      "\n",
      "\n",
      "At random state 104, the training accuracy is: 0.9202598374300082\n",
      "At random state 104, the testing accuracy is: 0.8567898899218594\n",
      "\n",
      "\n",
      "At random state 105, the training accuracy is: 0.9039939211152427\n",
      "At random state 105, the testing accuracy is: 0.9158157268038108\n",
      "\n",
      "\n",
      "At random state 106, the training accuracy is: 0.9093042285957667\n",
      "At random state 106, the testing accuracy is: 0.8907295385753043\n",
      "\n",
      "\n",
      "At random state 107, the training accuracy is: 0.9033411447505342\n",
      "At random state 107, the testing accuracy is: 0.9182021183793964\n",
      "\n",
      "\n",
      "At random state 108, the training accuracy is: 0.9048291214848165\n",
      "At random state 108, the testing accuracy is: 0.9143625015010715\n",
      "\n",
      "\n",
      "At random state 109, the training accuracy is: 0.9189716943848437\n",
      "At random state 109, the testing accuracy is: 0.8769206928155361\n",
      "\n",
      "\n",
      "At random state 110, the training accuracy is: 0.8958010026174813\n",
      "At random state 110, the testing accuracy is: 0.9384862365510168\n",
      "\n",
      "\n",
      "At random state 111, the training accuracy is: 0.9155941855175345\n",
      "At random state 111, the testing accuracy is: 0.8830606953528845\n",
      "\n",
      "\n",
      "At random state 112, the training accuracy is: 0.9062790169838667\n",
      "At random state 112, the testing accuracy is: 0.9112550339406777\n",
      "\n",
      "\n",
      "At random state 113, the training accuracy is: 0.9059541722616847\n",
      "At random state 113, the testing accuracy is: 0.9077678525273164\n",
      "\n",
      "\n",
      "At random state 114, the training accuracy is: 0.895829808786346\n",
      "At random state 114, the testing accuracy is: 0.9390926615375191\n",
      "\n",
      "\n",
      "At random state 115, the training accuracy is: 0.8999119230369046\n",
      "At random state 115, the testing accuracy is: 0.9214132998807882\n",
      "\n",
      "\n",
      "At random state 116, the training accuracy is: 0.91122833111808\n",
      "At random state 116, the testing accuracy is: 0.8904614176143931\n",
      "\n",
      "\n",
      "At random state 117, the training accuracy is: 0.8983641131366571\n",
      "At random state 117, the testing accuracy is: 0.9305899624375586\n",
      "\n",
      "\n",
      "At random state 118, the training accuracy is: 0.9037324173235276\n",
      "At random state 118, the testing accuracy is: 0.9227749858707887\n",
      "\n",
      "\n",
      "At random state 119, the training accuracy is: 0.921019676330447\n",
      "At random state 119, the testing accuracy is: 0.8383943120918014\n",
      "\n",
      "\n",
      "At random state 120, the training accuracy is: 0.918023382328979\n",
      "At random state 120, the testing accuracy is: 0.8558559841318218\n",
      "\n",
      "\n",
      "At random state 121, the training accuracy is: 0.9045210162190809\n",
      "At random state 121, the testing accuracy is: 0.9131771039166472\n",
      "\n",
      "\n",
      "At random state 122, the training accuracy is: 0.9175043787233615\n",
      "At random state 122, the testing accuracy is: 0.8530658659639884\n",
      "\n",
      "\n",
      "At random state 123, the training accuracy is: 0.9015834513654044\n",
      "At random state 123, the testing accuracy is: 0.9256210908580671\n",
      "\n",
      "\n",
      "At random state 124, the training accuracy is: 0.9114585203746993\n",
      "At random state 124, the testing accuracy is: 0.8829491313154749\n",
      "\n",
      "\n",
      "At random state 125, the training accuracy is: 0.9047587477027984\n",
      "At random state 125, the testing accuracy is: 0.9042138396918337\n",
      "\n",
      "\n",
      "At random state 126, the training accuracy is: 0.9111539918863357\n",
      "At random state 126, the testing accuracy is: 0.874769850243578\n",
      "\n",
      "\n",
      "At random state 127, the training accuracy is: 0.916143468769232\n",
      "At random state 127, the testing accuracy is: 0.8648481762649041\n",
      "\n",
      "\n",
      "At random state 128, the training accuracy is: 0.9069296975040017\n",
      "At random state 128, the testing accuracy is: 0.8989429644377589\n",
      "\n",
      "\n",
      "At random state 129, the training accuracy is: 0.9012125432480859\n",
      "At random state 129, the testing accuracy is: 0.9284453850596451\n",
      "\n",
      "\n",
      "At random state 130, the training accuracy is: 0.9082725068155546\n",
      "At random state 130, the testing accuracy is: 0.9036974140693906\n",
      "\n",
      "\n",
      "At random state 131, the training accuracy is: 0.9067558360035138\n",
      "At random state 131, the testing accuracy is: 0.9091497210636172\n",
      "\n",
      "\n",
      "At random state 132, the training accuracy is: 0.9102300815793003\n",
      "At random state 132, the testing accuracy is: 0.8838478788656019\n",
      "\n",
      "\n",
      "At random state 133, the training accuracy is: 0.9141055090543426\n",
      "At random state 133, the testing accuracy is: 0.8663260026141562\n",
      "\n",
      "\n",
      "At random state 134, the training accuracy is: 0.9051454888245755\n",
      "At random state 134, the testing accuracy is: 0.9134316579079081\n",
      "\n",
      "\n",
      "At random state 135, the training accuracy is: 0.9174697641775053\n",
      "At random state 135, the testing accuracy is: 0.8669836989128912\n",
      "\n",
      "\n",
      "At random state 136, the training accuracy is: 0.911971707904642\n",
      "At random state 136, the testing accuracy is: 0.8851497985465386\n",
      "\n",
      "\n",
      "At random state 137, the training accuracy is: 0.9012885423118936\n",
      "At random state 137, the testing accuracy is: 0.9213775628609531\n",
      "\n",
      "\n",
      "At random state 138, the training accuracy is: 0.9072301954784131\n",
      "At random state 138, the testing accuracy is: 0.9019509659636383\n",
      "\n",
      "\n",
      "At random state 139, the training accuracy is: 0.8973653291124144\n",
      "At random state 139, the testing accuracy is: 0.9178397496937486\n",
      "\n",
      "\n",
      "At random state 140, the training accuracy is: 0.9180948025419622\n",
      "At random state 140, the testing accuracy is: 0.8598993073480351\n",
      "\n",
      "\n",
      "At random state 141, the training accuracy is: 0.9037039205661337\n",
      "At random state 141, the testing accuracy is: 0.9168918141699335\n",
      "\n",
      "\n",
      "At random state 142, the training accuracy is: 0.904295731279902\n",
      "At random state 142, the testing accuracy is: 0.9149040018282321\n",
      "\n",
      "\n",
      "At random state 143, the training accuracy is: 0.917482995019746\n",
      "At random state 143, the testing accuracy is: 0.8715490575675836\n",
      "\n",
      "\n",
      "At random state 144, the training accuracy is: 0.9101882270703733\n",
      "At random state 144, the testing accuracy is: 0.8918240896721793\n",
      "\n",
      "\n",
      "At random state 145, the training accuracy is: 0.9150059090517995\n",
      "At random state 145, the testing accuracy is: 0.8681655378388069\n",
      "\n",
      "\n",
      "At random state 146, the training accuracy is: 0.9087017140144015\n",
      "At random state 146, the testing accuracy is: 0.8998992674294364\n",
      "\n",
      "\n",
      "At random state 147, the training accuracy is: 0.9175388268478516\n",
      "At random state 147, the testing accuracy is: 0.8670040395216047\n",
      "\n",
      "\n",
      "At random state 148, the training accuracy is: 0.9033745312986884\n",
      "At random state 148, the testing accuracy is: 0.9188784034856751\n",
      "\n",
      "\n",
      "At random state 149, the training accuracy is: 0.9134263788941809\n",
      "At random state 149, the testing accuracy is: 0.8733958667937529\n",
      "\n",
      "\n",
      "At random state 150, the training accuracy is: 0.9048921758084995\n",
      "At random state 150, the testing accuracy is: 0.9134851898325818\n",
      "\n",
      "\n"
     ]
    }
   ],
   "source": [
    "from sklearn.model_selection import train_test_split\n",
    "\n",
    "from sklearn.metrics import r2_score\n",
    "\n",
    "from sklearn.linear_model import LinearRegression\n",
    "lr = LinearRegression()\n",
    "\n",
    "for i in range (100,151):\n",
    "    x_train, x_test, y_train, y_test = train_test_split (x_scaled, y, test_size = 0.2, random_state = i)\n",
    "    lr.fit (x_train, y_train)\n",
    "    pred_train = lr.predict (x_train)\n",
    "    pred_test = lr.predict (x_test)\n",
    "    print (f\"At random state {i}, the training accuracy is: {r2_score (y_train, pred_train)}\")\n",
    "    print (f\"At random state {i}, the testing accuracy is: {r2_score (y_test, pred_test)}\")\n",
    "    print ('\\n')"
   ]
  },
  {
   "cell_type": "code",
   "execution_count": 45,
   "id": "f7644bcc",
   "metadata": {},
   "outputs": [
    {
     "data": {
      "text/plain": [
       "158     7.3\n",
       "56      5.5\n",
       "97     15.5\n",
       "192     5.9\n",
       "153    19.0\n",
       "Name: sales, dtype: float64"
      ]
     },
     "execution_count": 45,
     "metadata": {},
     "output_type": "execute_result"
    }
   ],
   "source": [
    "#Actually splitting the data set\n",
    "x_train, x_test, y_train, y_test = train_test_split (x_scaled, y, test_size = 0.25, random_state = 148)\n",
    "y_test.head()"
   ]
  },
  {
   "cell_type": "markdown",
   "id": "ad317640",
   "metadata": {},
   "source": [
    "# 1. Using Linear Regression"
   ]
  },
  {
   "cell_type": "code",
   "execution_count": 73,
   "id": "238a9dee",
   "metadata": {},
   "outputs": [],
   "source": [
    "from sklearn.metrics import r2_score\n",
    "from sklearn.metrics import mean_squared_error, mean_absolute_error\n",
    "from sklearn.model_selection import cross_val_score"
   ]
  },
  {
   "cell_type": "code",
   "execution_count": 82,
   "id": "1b935139",
   "metadata": {},
   "outputs": [
    {
     "name": "stdout",
     "output_type": "stream",
     "text": [
      "The training score is:  90.06193077536949\n",
      "The testing score is:  91.94489954503476\n",
      "The R2 score is:  91.94489954503476\n",
      "The MAE is:  1.3285067578607823\n",
      "The MSE is:  1.5857792130401143\n",
      "The CV score is:  89.78060430607069\n",
      "Difference between R2 score and CV score is:  2.1642952389640726\n"
     ]
    }
   ],
   "source": [
    "lr = LinearRegression()\n",
    "lr.fit(x_train, y_train)\n",
    "lr.fit(x_test, y_test)\n",
    "\n",
    "\n",
    "print (\"The training score is: \",(lr.score(x_train, y_train))*100) # Training Score\n",
    "print (\"The testing score is: \",lr.score(x_test, y_test)*100) # Training Score\n",
    "\n",
    "y_pred = lr.predict(x_test)\n",
    "print(\"The R2 score is: \",(r2_score(y_test, y_pred)*100)) #R2 Score\n",
    "print(\"The MAE is: \", (mean_absolute_error(y_test, y_pred))) #MAE\n",
    "print (\"The MSE is: \",(np.sqrt(mean_squared_error(y_test,y_pred)))) #MSE\n",
    "\n",
    "\n",
    "print (\"The CV score is: \",(cross_val_score(lr,x,y, cv=5).mean())*100) #Cross Validation Score\n",
    "print (\"Difference between R2 score and CV score is: \",((r2_score(y_test, y_pred)*100)-((cross_val_score(lr,x,y, cv=5).mean())*100)))"
   ]
  },
  {
   "cell_type": "markdown",
   "id": "2414a14a",
   "metadata": {},
   "source": [
    "# 2. Using SVR"
   ]
  },
  {
   "cell_type": "code",
   "execution_count": 83,
   "id": "e5a50fc9",
   "metadata": {},
   "outputs": [
    {
     "name": "stdout",
     "output_type": "stream",
     "text": [
      "The training score is:  89.62858173946636\n",
      "The testing score is:  91.33363082985076\n",
      "The R2 score is:  91.33363082985076\n",
      "The MAE is:  1.3049387899712948\n",
      "The MSE is:  1.6448482337871717\n",
      "The CV score is:  89.05371919621481\n",
      "Difference between R2 score and CV score is:  2.2799116336359475\n"
     ]
    }
   ],
   "source": [
    "from sklearn.svm import SVR\n",
    "\n",
    "svr = SVR(kernel = 'linear')\n",
    "svr.fit(x_train, y_train)\n",
    "svr.fit(x_test, y_test)\n",
    "\n",
    "\n",
    "print (\"The training score is: \",(svr.score(x_train, y_train))*100) # Training Score\n",
    "print (\"The testing score is: \",svr.score(x_test, y_test)*100) # Training Score\n",
    "\n",
    "y_pred = svr.predict(x_test)\n",
    "print(\"The R2 score is: \",(r2_score(y_test, y_pred)*100)) #R2 Score\n",
    "print(\"The MAE is: \", (mean_absolute_error(y_test, y_pred))) #MAE\n",
    "print (\"The MSE is: \",(np.sqrt(mean_squared_error(y_test,y_pred)))) #MSE\n",
    "\n",
    "print (\"The CV score is: \",(cross_val_score(svr,x,y, cv=5).mean())*100) #Cross Validation Score\n",
    "print (\"Difference between R2 score and CV score is: \",((r2_score(y_test, y_pred)*100)-((cross_val_score(svr,x,y, cv=5).mean())*100)))"
   ]
  },
  {
   "cell_type": "markdown",
   "id": "1233c5d4",
   "metadata": {},
   "source": [
    "# 3. Using KNN-R"
   ]
  },
  {
   "cell_type": "code",
   "execution_count": 87,
   "id": "1beaad42",
   "metadata": {},
   "outputs": [
    {
     "name": "stdout",
     "output_type": "stream",
     "text": [
      "The training score is:  89.93381375643364\n",
      "The testing score is:  93.93103666536018\n",
      "The R2 score is:  93.93103666536018\n",
      "The MAE is:  1.041\n",
      "The MSE is:  1.376462858198506\n",
      "The CV score is:  94.01555621834635\n",
      "Difference between R2 score and CV score is:  -0.08451955298616554\n"
     ]
    }
   ],
   "source": [
    "from sklearn.neighbors import KNeighborsRegressor\n",
    "knn = KNeighborsRegressor(n_neighbors =4 )\n",
    "knn.fit(x_train, y_train)\n",
    "knn.fit(x_test, y_test)\n",
    "\n",
    "\n",
    "print (\"The training score is: \",(knn.score(x_train, y_train))*100) # Training Score\n",
    "print (\"The testing score is: \",knn.score(x_test, y_test)*100) # Training Score\n",
    "\n",
    "y_pred = knn.predict(x_test)\n",
    "print(\"The R2 score is: \",(r2_score(y_test, y_pred)*100)) #R2 Score\n",
    "print(\"The MAE is: \", (mean_absolute_error(y_test, y_pred))) #MAE\n",
    "print (\"The MSE is: \",(np.sqrt(mean_squared_error(y_test,y_pred)))) #MSE\n",
    "\n",
    "print (\"The CV score is: \",(cross_val_score(knn,x,y, cv=5).mean())*100) #Cross Validation Score\n",
    "print (\"Difference between R2 score and CV score is: \",((r2_score(y_test, y_pred)*100)-((cross_val_score(knn,x,y, cv=5).mean())*100)))"
   ]
  },
  {
   "cell_type": "markdown",
   "id": "8d26cb8b",
   "metadata": {},
   "source": [
    "# 4. Using Ridge"
   ]
  },
  {
   "cell_type": "code",
   "execution_count": 88,
   "id": "0cebf74e",
   "metadata": {},
   "outputs": [
    {
     "name": "stdout",
     "output_type": "stream",
     "text": [
      "The training score is:  90.0932720272402\n",
      "The testing score is:  91.93622118698556\n",
      "The R2 score is:  91.93622118698556\n",
      "The MAE is:  1.3253035791853989\n",
      "The MSE is:  1.5866332219487969\n",
      "The CV score is:  89.79060985105633\n",
      "Difference between R2 score and CV score is:  2.1456113359292317\n"
     ]
    }
   ],
   "source": [
    "from sklearn.linear_model import Ridge\n",
    "ridge = Ridge(alpha=0.01, normalize=True)\n",
    "ridge.fit(x_train, y_train)\n",
    "ridge.fit(x_test, y_test)\n",
    "\n",
    "\n",
    "print (\"The training score is: \",(ridge.score(x_train, y_train))*100) # Training Score\n",
    "print (\"The testing score is: \",(ridge.score(x_test, y_test)*100)) # Training Score\n",
    "\n",
    "y_pred = ridge.predict(x_test)\n",
    "print(\"The R2 score is: \",(r2_score(y_test, y_pred)*100)) #R2 Score\n",
    "print(\"The MAE is: \", (mean_absolute_error(y_test, y_pred))) #MAE\n",
    "print (\"The MSE is: \",(np.sqrt(mean_squared_error(y_test,y_pred)))) #MSE\n",
    "\n",
    "print (\"The CV score is: \",(cross_val_score(ridge,x,y, cv=5).mean())*100) #Cross Validation Score\n",
    "print (\"Difference between R2 score and CV score is: \",((r2_score(y_test, y_pred)*100)-((cross_val_score(ridge,x,y, cv=5).mean())*100)))"
   ]
  },
  {
   "cell_type": "markdown",
   "id": "db69f870",
   "metadata": {},
   "source": [
    "# 5. Using Gradient Boosting Regressor"
   ]
  },
  {
   "cell_type": "code",
   "execution_count": 89,
   "id": "e8677422",
   "metadata": {},
   "outputs": [
    {
     "name": "stdout",
     "output_type": "stream",
     "text": [
      "The training score is:  90.31826534988605\n",
      "The testing score is:  99.99518666259979\n",
      "The R2 score is:  99.99518666259979\n",
      "The MAE is:  0.025868137469485894\n",
      "The MSE is:  0.03876416138338434\n",
      "The CV score is:  97.76424596618438\n",
      "Difference between R2 score and CV score is:  2.2313625892738855\n"
     ]
    }
   ],
   "source": [
    "from sklearn.ensemble import GradientBoostingRegressor\n",
    "gbr = GradientBoostingRegressor()\n",
    "gbr.fit(x_train, y_train)\n",
    "gbr.fit(x_test, y_test)\n",
    "\n",
    "\n",
    "print (\"The training score is: \",(gbr.score(x_train, y_train))*100) # Training Score\n",
    "print (\"The testing score is: \",(gbr.score(x_test, y_test)*100)) # Training Score\n",
    "\n",
    "y_pred = gbr.predict(x_test)\n",
    "print(\"The R2 score is: \",(r2_score(y_test, y_pred)*100)) #R2 Score\n",
    "print(\"The MAE is: \", (mean_absolute_error(y_test, y_pred))) #MAE\n",
    "print (\"The MSE is: \",(np.sqrt(mean_squared_error(y_test,y_pred)))) #MSE\n",
    "\n",
    "\n",
    "print (\"The CV score is: \",(cross_val_score(gbr,x,y, cv=5).mean())*100) #Cross Validation Score\n",
    "print (\"Difference between R2 score and CV score is: \",((r2_score(y_test, y_pred)*100)-((cross_val_score(gbr,x,y, cv=5).mean())*100)))"
   ]
  },
  {
   "cell_type": "markdown",
   "id": "748c6010",
   "metadata": {},
   "source": [
    "# We can conclude that KNN-Regressor works best for this dataset since the difference between R2 score & CV is the least amongst all the models (-0.84)"
   ]
  },
  {
   "cell_type": "code",
   "execution_count": 99,
   "id": "3146e3dc",
   "metadata": {},
   "outputs": [
    {
     "name": "stdout",
     "output_type": "stream",
     "text": [
      "The training score is:  89.93381375643364\n",
      "The testing score is:  93.93103666536018\n",
      "The R2 score is:  93.93103666536018\n",
      "The MAE is:  1.041\n",
      "The MSE is:  1.376462858198506\n",
      "The CV score is:  94.01555621834635\n",
      "Difference between R2 score and CV score is:  -0.08451955298616554\n"
     ]
    }
   ],
   "source": [
    "#Hyper Parameter tuning\n",
    "\n",
    "from sklearn.neighbors import KNeighborsRegressor\n",
    "knn = KNeighborsRegressor(n_neighbors =4, algorithm ='kd_tree', leaf_size=25)\n",
    "knn.fit(x_train, y_train)\n",
    "knn.fit(x_test, y_test)\n",
    "\n",
    "\n",
    "print (\"The training score is: \",(knn.score(x_train, y_train))*100) # Training Score\n",
    "print (\"The testing score is: \",knn.score(x_test, y_test)*100) # Training Score\n",
    "\n",
    "y_pred = knn.predict(x_test)\n",
    "print(\"The R2 score is: \",(r2_score(y_test, y_pred)*100)) #R2 Score\n",
    "print(\"The MAE is: \", (mean_absolute_error(y_test, y_pred))) #MAE\n",
    "print (\"The MSE is: \",(np.sqrt(mean_squared_error(y_test,y_pred)))) #MSE\n",
    "\n",
    "print (\"The CV score is: \",(cross_val_score(knn,x,y, cv=5).mean())*100) #Cross Validation Score\n",
    "print (\"Difference between R2 score and CV score is: \",((r2_score(y_test, y_pred)*100)-((cross_val_score(knn,x,y, cv=5).mean())*100)))"
   ]
  },
  {
   "cell_type": "markdown",
   "id": "548ffcea",
   "metadata": {},
   "source": [
    "# Saving the KNN-R model"
   ]
  },
  {
   "cell_type": "code",
   "execution_count": 92,
   "id": "98f4d29b",
   "metadata": {},
   "outputs": [],
   "source": [
    "import pickle"
   ]
  },
  {
   "cell_type": "code",
   "execution_count": 93,
   "id": "177ac73e",
   "metadata": {},
   "outputs": [],
   "source": [
    "pickle.dump (knn,open('sales_prediction_regression','wb'))"
   ]
  },
  {
   "cell_type": "markdown",
   "id": "6d52ac5b",
   "metadata": {},
   "source": [
    "# Thank You"
   ]
  },
  {
   "cell_type": "code",
   "execution_count": null,
   "id": "4f1cddf3",
   "metadata": {},
   "outputs": [],
   "source": []
  }
 ],
 "metadata": {
  "kernelspec": {
   "display_name": "Python 3",
   "language": "python",
   "name": "python3"
  },
  "language_info": {
   "codemirror_mode": {
    "name": "ipython",
    "version": 3
   },
   "file_extension": ".py",
   "mimetype": "text/x-python",
   "name": "python",
   "nbconvert_exporter": "python",
   "pygments_lexer": "ipython3",
   "version": "3.8.8"
  }
 },
 "nbformat": 4,
 "nbformat_minor": 5
}
